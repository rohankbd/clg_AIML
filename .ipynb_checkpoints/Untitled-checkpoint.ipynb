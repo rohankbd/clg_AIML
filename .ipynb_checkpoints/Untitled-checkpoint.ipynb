{
 "cells": [
  {
   "cell_type": "code",
   "execution_count": null,
   "id": "df6a48d3",
   "metadata": {},
   "outputs": [],
   "source": [
    "import random\n",
    "import math\n",
    "l = list()\n",
    "n = int(input(\"Enter length:\"))\n",
    "sum = 0\n",
    "mean = 0\n",
    "med = 0\n",
    "mode = 0\n",
    "sd = 0\n",
    "var = 0\n",
    "for i in range(0,n):\n",
    "    l.append(random.randint(1,10))\n",
    "    sum = sum + l[i]\n",
    "print(l)\n",
    "print(\"Sum = \",sum)\n",
    "mean = sum/n\n",
    "print(\"Mean = \",mean)\n",
    "if(n%2==0):\n",
    "    a = l[int(n/2)]\n",
    "    b = l[int(n/2)+1]\n",
    "    med = (a+b)//2\n",
    "else:\n",
    "    med = l[(n+1)//2]\n",
    "print(\"Median = \",med)\n",
    "d = 0\n",
    "s = 0\n",
    "for i in l:\n",
    "    s = pow((i - mean),2)\n",
    "    d = d + s\n",
    "var = d/(n-1)\n",
    "print(\"Variance = \",var)\n",
    "sd = math.sqrt(var)\n",
    "print(\"Standard Deviation = \",sd)\n",
    "count = 0\n",
    "temp = 0\n",
    "for x in range(0,n):\n",
    "    temp = l.count(l[x])\n",
    "    if(temp>count):\n",
    "        count = temp\n",
    "        i = x\n",
    "mode = l[i]\n",
    "print(\"Mode = \",mode)"
   ]
  }
 ],
 "metadata": {
  "kernelspec": {
   "display_name": "Python 3 (ipykernel)",
   "language": "python",
   "name": "python3"
  },
  "language_info": {
   "codemirror_mode": {
    "name": "ipython",
    "version": 3
   },
   "file_extension": ".py",
   "mimetype": "text/x-python",
   "name": "python",
   "nbconvert_exporter": "python",
   "pygments_lexer": "ipython3",
   "version": "3.9.13"
  }
 },
 "nbformat": 4,
 "nbformat_minor": 5
}
