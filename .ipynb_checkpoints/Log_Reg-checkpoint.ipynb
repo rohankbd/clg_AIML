{
 "cells": [
  {
   "cell_type": "code",
   "execution_count": 8,
   "id": "4113f5cc",
   "metadata": {
    "scrolled": false
   },
   "outputs": [
    {
     "name": "stdout",
     "output_type": "stream",
     "text": [
      "     pregnant  glucose  bp  skin  insulin   bmi  pedigree  age  label\n",
      "0           6      148  72    35        0  33.6     0.627   50      1\n",
      "1           1       85  66    29        0  26.6     0.351   31      0\n",
      "2           8      183  64     0        0  23.3     0.672   32      1\n",
      "3           1       89  66    23       94  28.1     0.167   21      0\n",
      "4           0      137  40    35      168  43.1     2.288   33      1\n",
      "..        ...      ...  ..   ...      ...   ...       ...  ...    ...\n",
      "763        10      101  76    48      180  32.9     0.171   63      0\n",
      "764         2      122  70    27        0  36.8     0.340   27      0\n",
      "765         5      121  72    23      112  26.2     0.245   30      0\n",
      "766         1      126  60     0        0  30.1     0.349   47      1\n",
      "767         1       93  70    31        0  30.4     0.315   23      0\n",
      "\n",
      "[768 rows x 9 columns]\n"
     ]
    }
   ],
   "source": [
    "import numpy as np\n",
    "import pandas as pd\n",
    "col_names = ['pregnant','glucose','bp','skin','insulin','bmi','pedigree','age','label']\n",
    "\n",
    "pima = pd.read_csv(\"5_pima-indians-diabetes.csv\", names=col_names)\n",
    "print(pima)\n",
    "\n",
    "feature_cols = ['pregnant','glucose','bp','skin','insulin','bmi','pedigree','age']\n",
    "x = pima[feature_cols]\n",
    "y = pima.label\n",
    "#print(x,y)\n",
    "\n",
    "from sklearn.model_selection import train_test_split\n",
    "x_train, x_test, y_train, y_test = train_test_split(x,y,test_size=0.25,random_state=1)\n",
    "#print(f\"x val\\n {x_train, x_test}\")\n",
    "#print(f\"y val\\n {y_train, y_test}\")\n",
    "\n"
   ]
  },
  {
   "cell_type": "code",
   "execution_count": 9,
   "id": "a303ba3d",
   "metadata": {},
   "outputs": [
    {
     "name": "stdout",
     "output_type": "stream",
     "text": [
      "     pregnant  glucose  bp  skin  insulin   bmi  pedigree  age\n",
      "285         7      136  74    26      135  26.0     0.647   51\n",
      "101         1      151  60     0        0  26.1     0.179   22\n",
      "581         6      109  60    27        0  25.0     0.206   27\n",
      "352         3       61  82    28        0  34.4     0.243   46\n",
      "726         1      116  78    29      180  36.1     0.496   25\n",
      "..        ...      ...  ..   ...      ...   ...       ...  ...\n",
      "247         0      165  90    33      680  52.3     0.427   23\n",
      "189         5      139  80    35      160  31.6     0.361   25\n",
      "139         5      105  72    29      325  36.9     0.159   28\n",
      "518        13       76  60     0        0  32.8     0.180   41\n",
      "629         4       94  65    22        0  24.7     0.148   21\n",
      "\n",
      "[192 rows x 8 columns]\n"
     ]
    },
    {
     "name": "stderr",
     "output_type": "stream",
     "text": [
      "C:\\Users\\rkaba\\anaconda3\\lib\\site-packages\\sklearn\\linear_model\\_logistic.py:814: ConvergenceWarning: lbfgs failed to converge (status=1):\n",
      "STOP: TOTAL NO. of ITERATIONS REACHED LIMIT.\n",
      "\n",
      "Increase the number of iterations (max_iter) or scale the data as shown in:\n",
      "    https://scikit-learn.org/stable/modules/preprocessing.html\n",
      "Please also refer to the documentation for alternative solver options:\n",
      "    https://scikit-learn.org/stable/modules/linear_model.html#logistic-regression\n",
      "  n_iter_i = _check_optimize_result(\n"
     ]
    }
   ],
   "source": [
    "from sklearn.linear_model import LogisticRegression\n",
    "logreg = LogisticRegression(random_state=1)\n",
    "logreg.fit(x_train,y_train)\n",
    "\n",
    "y_pred = logreg.predict(x_test)\n",
    "#print(y_pred)\n",
    "print(x_test)"
   ]
  },
  {
   "cell_type": "code",
   "execution_count": 10,
   "id": "028b2353",
   "metadata": {},
   "outputs": [
    {
     "name": "stdout",
     "output_type": "stream",
     "text": [
      "[[109  14]\n",
      " [ 29  40]]\n",
      "Total predictions: 149\n",
      "Accuracy:  77.60416666666666\n"
     ]
    }
   ],
   "source": [
    "from sklearn import metrics\n",
    "cnf_matrix = metrics.confusion_matrix(y_test,y_pred)\n",
    "print(cnf_matrix)\n",
    "\n",
    "from sklearn.metrics import accuracy_score\n",
    "print(f\"Total predictions: {accuracy_score(y_test,y_pred, normalize=False)}\")\n",
    "print(\"Accuracy: \",accuracy_score(y_test,y_pred, normalize=True)*100)"
   ]
  },
  {
   "cell_type": "code",
   "execution_count": 11,
   "id": "2b98618d",
   "metadata": {
    "scrolled": false
   },
   "outputs": [],
   "source": [
    "#print(np.column_stack((y_test,y_pred)))"
   ]
  },
  {
   "cell_type": "code",
   "execution_count": null,
   "id": "b394eb1c",
   "metadata": {},
   "outputs": [],
   "source": []
  }
 ],
 "metadata": {
  "kernelspec": {
   "display_name": "Python 3 (ipykernel)",
   "language": "python",
   "name": "python3"
  },
  "language_info": {
   "codemirror_mode": {
    "name": "ipython",
    "version": 3
   },
   "file_extension": ".py",
   "mimetype": "text/x-python",
   "name": "python",
   "nbconvert_exporter": "python",
   "pygments_lexer": "ipython3",
   "version": "3.9.13"
  }
 },
 "nbformat": 4,
 "nbformat_minor": 5
}
