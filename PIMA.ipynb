{
 "cells": [
  {
   "cell_type": "code",
   "execution_count": 2,
   "id": "76079e36",
   "metadata": {},
   "outputs": [
    {
     "name": "stdout",
     "output_type": "stream",
     "text": [
      "      0    1   2   3    4     5      6   7  8\n",
      "0     6  148  72  35    0  33.6  0.627  50  1\n",
      "1     1   85  66  29    0  26.6  0.351  31  0\n",
      "2     8  183  64   0    0  23.3  0.672  32  1\n",
      "3     1   89  66  23   94  28.1  0.167  21  0\n",
      "4     0  137  40  35  168  43.1  2.288  33  1\n",
      "..   ..  ...  ..  ..  ...   ...    ...  .. ..\n",
      "763  10  101  76  48  180  32.9  0.171  63  0\n",
      "764   2  122  70  27    0  36.8  0.340  27  0\n",
      "765   5  121  72  23  112  26.2  0.245  30  0\n",
      "766   1  126  60   0    0  30.1  0.349  47  1\n",
      "767   1   93  70  31    0  30.4  0.315  23  0\n",
      "\n",
      "[768 rows x 9 columns]\n",
      "      0      1     2     3      4     5      6   7  8\n",
      "0     6  148.0  72.0  35.0    NaN  33.6  0.627  50  1\n",
      "1     1   85.0  66.0  29.0    NaN  26.6  0.351  31  0\n",
      "2     8  183.0  64.0   NaN    NaN  23.3  0.672  32  1\n",
      "3     1   89.0  66.0  23.0   94.0  28.1  0.167  21  0\n",
      "4     0  137.0  40.0  35.0  168.0  43.1  2.288  33  1\n",
      "..   ..    ...   ...   ...    ...   ...    ...  .. ..\n",
      "763  10  101.0  76.0  48.0  180.0  32.9  0.171  63  0\n",
      "764   2  122.0  70.0  27.0    NaN  36.8  0.340  27  0\n",
      "765   5  121.0  72.0  23.0  112.0  26.2  0.245  30  0\n",
      "766   1  126.0  60.0   NaN    NaN  30.1  0.349  47  1\n",
      "767   1   93.0  70.0  31.0    NaN  30.4  0.315  23  0\n",
      "\n",
      "[768 rows x 9 columns]\n",
      "      0      1     2     3      4     5      6   7  8\n",
      "3     1   89.0  66.0  23.0   94.0  28.1  0.167  21  0\n",
      "4     0  137.0  40.0  35.0  168.0  43.1  2.288  33  1\n",
      "6     3   78.0  50.0  32.0   88.0  31.0  0.248  26  1\n",
      "8     2  197.0  70.0  45.0  543.0  30.5  0.158  53  1\n",
      "13    1  189.0  60.0  23.0  846.0  30.1  0.398  59  1\n",
      "..   ..    ...   ...   ...    ...   ...    ...  .. ..\n",
      "753   0  181.0  88.0  44.0  510.0  43.3  0.222  26  1\n",
      "755   1  128.0  88.0  39.0  110.0  36.5  1.057  37  1\n",
      "760   2   88.0  58.0  26.0   16.0  28.4  0.766  22  0\n",
      "763  10  101.0  76.0  48.0  180.0  32.9  0.171  63  0\n",
      "765   5  121.0  72.0  23.0  112.0  26.2  0.245  30  0\n",
      "\n",
      "[392 rows x 9 columns]\n",
      "[0.75572519 0.81679389 0.76923077]\n",
      "Accuracy:0.781\n"
     ]
    }
   ],
   "source": [
    "from numpy import nan\n",
    "from pandas import read_csv\n",
    "from sklearn.discriminant_analysis import LinearDiscriminantAnalysis\n",
    "from sklearn.model_selection import KFold\n",
    "from sklearn.model_selection import cross_val_score\n",
    "\n",
    "dataset = read_csv(\"5_pima-indians-diabetes.csv\",header=None)\n",
    "print(dataset)\n",
    "\n",
    "dataset[[1,2,3,4,5]] = dataset[[1,2,3,4,5]].replace(0,nan)\n",
    "print(dataset)\n",
    "\n",
    "dataset.dropna(inplace=True)\n",
    "print(dataset)\n",
    "\n",
    "values = dataset.values\n",
    "x = values[:,0:8]\n",
    "y = values[:,8]\n",
    "#print(x)\n",
    "#print(y)\n",
    "\n",
    "#define model\n",
    "model = LinearDiscriminantAnalysis()\n",
    "\n",
    "#define the model evaluation procedure\n",
    "cv1 = KFold(n_splits=3, shuffle = True, random_state = 1)\n",
    "\n",
    "#evaluate the model\n",
    "result = cross_val_score(model,x,y,cv=cv1)\n",
    "\n",
    "#report the mean performance\n",
    "print(result)\n",
    "print(\"Accuracy:%.3f\"%result.mean())"
   ]
  },
  {
   "cell_type": "code",
   "execution_count": null,
   "id": "8a898a37",
   "metadata": {},
   "outputs": [],
   "source": []
  },
  {
   "cell_type": "code",
   "execution_count": null,
   "id": "e3f11383",
   "metadata": {},
   "outputs": [],
   "source": []
  }
 ],
 "metadata": {
  "kernelspec": {
   "display_name": "Python 3 (ipykernel)",
   "language": "python",
   "name": "python3"
  },
  "language_info": {
   "codemirror_mode": {
    "name": "ipython",
    "version": 3
   },
   "file_extension": ".py",
   "mimetype": "text/x-python",
   "name": "python",
   "nbconvert_exporter": "python",
   "pygments_lexer": "ipython3",
   "version": "3.9.13"
  }
 },
 "nbformat": 4,
 "nbformat_minor": 5
}
